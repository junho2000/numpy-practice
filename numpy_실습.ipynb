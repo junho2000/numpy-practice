{
  "nbformat": 4,
  "nbformat_minor": 0,
  "metadata": {
    "colab": {
      "provenance": [],
      "authorship_tag": "ABX9TyP6HYTD9UvCZHk2nNzgZ9Ao",
      "include_colab_link": true
    },
    "kernelspec": {
      "name": "python3",
      "display_name": "Python 3"
    },
    "language_info": {
      "name": "python"
    }
  },
  "cells": [
    {
      "cell_type": "markdown",
      "metadata": {
        "id": "view-in-github",
        "colab_type": "text"
      },
      "source": [
        "<a href=\"https://colab.research.google.com/github/junho2000/numpy-practice/blob/main/numpy_%EC%8B%A4%EC%8A%B5.ipynb\" target=\"_parent\"><img src=\"https://colab.research.google.com/assets/colab-badge.svg\" alt=\"Open In Colab\"/></a>"
      ]
    },
    {
      "cell_type": "markdown",
      "source": [
        "##모듈과 패키지"
      ],
      "metadata": {
        "id": "lc4x-bNKeBx4"
      }
    },
    {
      "cell_type": "markdown",
      "source": [
        "#모듈은 변수 함수 클래스를 담고 있는 파일 (.pt)\n",
        "#패키지는 여러 모듈을 묶은 것(폴더)\n",
        "#import 모듈\n",
        "#모듈.변수\n",
        "#모듈.함수()\n",
        "#모듈.클래스"
      ],
      "metadata": {
        "id": "kSmLUKHHeG8l"
      }
    },
    {
      "cell_type": "code",
      "execution_count": null,
      "metadata": {
        "colab": {
          "base_uri": "https://localhost:8080/"
        },
        "id": "CgchOWtHZkOs",
        "outputId": "d7d038b4-7d2c-4582-d3ec-93ad0739dbc8"
      },
      "outputs": [
        {
          "output_type": "stream",
          "name": "stdout",
          "text": [
            "3.141592653589793\n",
            "2.0\n"
          ]
        }
      ],
      "source": [
        "import math\n",
        "print(math.pi)\n",
        "print(math.sqrt(4))"
      ]
    },
    {
      "cell_type": "code",
      "source": [
        "import math as m\n",
        "print(m.pi)\n",
        "print(m.sqrt(4))"
      ],
      "metadata": {
        "colab": {
          "base_uri": "https://localhost:8080/"
        },
        "id": "aaLPgaCeZxmq",
        "outputId": "e7e1d35d-c023-4903-b229-37711bc1a98a"
      },
      "execution_count": null,
      "outputs": [
        {
          "output_type": "stream",
          "name": "stdout",
          "text": [
            "3.141592653589793\n",
            "2.0\n"
          ]
        }
      ]
    },
    {
      "cell_type": "code",
      "source": [
        "from math import pi,sqrt\n",
        "print(pi)\n",
        "print(sqrt(4))"
      ],
      "metadata": {
        "colab": {
          "base_uri": "https://localhost:8080/"
        },
        "id": "ih8FPvn3Z5qO",
        "outputId": "3ddba9a6-5c0c-4726-e6d0-7fbb849eee4b"
      },
      "execution_count": null,
      "outputs": [
        {
          "output_type": "stream",
          "name": "stdout",
          "text": [
            "3.141592653589793\n",
            "2.0\n"
          ]
        }
      ]
    },
    {
      "cell_type": "code",
      "source": [
        "from math import * #all\n",
        "print(pi)\n",
        "print(sqrt(4))\n",
        "print(sin(pi))"
      ],
      "metadata": {
        "colab": {
          "base_uri": "https://localhost:8080/"
        },
        "id": "OGfyXrlbaFgn",
        "outputId": "737b22ee-f8b3-44af-b287-57ff1c1e19e4"
      },
      "execution_count": null,
      "outputs": [
        {
          "output_type": "stream",
          "name": "stdout",
          "text": [
            "3.141592653589793\n",
            "2.0\n",
            "1.2246467991473532e-16\n"
          ]
        }
      ]
    },
    {
      "cell_type": "code",
      "source": [
        "from math import sqrt as s\n",
        "print(s(4))"
      ],
      "metadata": {
        "colab": {
          "base_uri": "https://localhost:8080/"
        },
        "id": "Oj4t_qQUaZnv",
        "outputId": "9b679459-db12-463d-c0c1-82fb8fc8e61a"
      },
      "execution_count": null,
      "outputs": [
        {
          "output_type": "stream",
          "name": "stdout",
          "text": [
            "2.0\n"
          ]
        }
      ]
    },
    {
      "cell_type": "code",
      "source": [
        "from math import sqrt as s, pi as p\n",
        "print(p)\n",
        "print(s(4))"
      ],
      "metadata": {
        "colab": {
          "base_uri": "https://localhost:8080/"
        },
        "id": "GSx1Oar9agJK",
        "outputId": "9a994e12-03e0-4a4c-a31b-24a6939ee14b"
      },
      "execution_count": null,
      "outputs": [
        {
          "output_type": "stream",
          "name": "stdout",
          "text": [
            "3.141592653589793\n",
            "2.0\n"
          ]
        }
      ]
    },
    {
      "cell_type": "code",
      "source": [
        "import numpy as np #numerical python\n",
        "a=np.array([1,2,3])\n",
        "print(a)"
      ],
      "metadata": {
        "colab": {
          "base_uri": "https://localhost:8080/"
        },
        "id": "uYNq3ifBbWPh",
        "outputId": "55ff971e-26b1-4738-ab56-e1c8944691a9"
      },
      "execution_count": null,
      "outputs": [
        {
          "output_type": "stream",
          "name": "stdout",
          "text": [
            "[1 2 3]\n"
          ]
        }
      ]
    },
    {
      "cell_type": "code",
      "source": [
        "import numpy.random\n",
        "print(numpy.random.randn(3,3)) #Standard Normal dist (3,3) 3행 3열 sample 추출 iid\n",
        "print(numpy.random.rand(3,3)) #uniform dist 0~1"
      ],
      "metadata": {
        "colab": {
          "base_uri": "https://localhost:8080/"
        },
        "id": "iGU54UJtbWXl",
        "outputId": "9cc1d4b6-9302-4698-b163-ed6a1057fa34"
      },
      "execution_count": null,
      "outputs": [
        {
          "output_type": "stream",
          "name": "stdout",
          "text": [
            "[[-0.02379488 -0.21788401  0.28473919]\n",
            " [ 1.1052346  -0.87251687 -0.75991053]\n",
            " [-1.36910406 -0.9456586  -1.40555683]]\n",
            "[[0.31123696 0.92597216 0.38666807]\n",
            " [0.50669669 0.45255791 0.68466845]\n",
            " [0.48576306 0.4326721  0.47253862]]\n"
          ]
        }
      ]
    },
    {
      "cell_type": "code",
      "source": [
        "import numpy.random as nr\n",
        "print(nr.randn(3,3))"
      ],
      "metadata": {
        "colab": {
          "base_uri": "https://localhost:8080/"
        },
        "id": "5GxTk8eRbWZ5",
        "outputId": "d19e497f-ddfd-4a8f-850c-b23ad059ff52"
      },
      "execution_count": null,
      "outputs": [
        {
          "output_type": "stream",
          "name": "stdout",
          "text": [
            "[[ 0.42600942  0.4388549  -0.42107856]\n",
            " [-0.76272375  0.29374132 -1.3998826 ]\n",
            " [ 0.18414941 -0.66462801  1.16669909]]\n"
          ]
        }
      ]
    },
    {
      "cell_type": "code",
      "source": [
        "from numpy.random import randn\n",
        "print(randn(3,3))"
      ],
      "metadata": {
        "colab": {
          "base_uri": "https://localhost:8080/"
        },
        "id": "Piu9kxvZbWdC",
        "outputId": "7e6e5c42-9a28-41fc-ccb3-42b055dd97b0"
      },
      "execution_count": null,
      "outputs": [
        {
          "output_type": "stream",
          "name": "stdout",
          "text": [
            "[[ 0.4729115   0.25429559  1.27414988]\n",
            " [-0.91277229  1.08727111 -1.85744792]\n",
            " [ 1.77840846 -0.55028147  1.16382994]]\n"
          ]
        }
      ]
    },
    {
      "cell_type": "code",
      "source": [
        "from numpy.random import *\n",
        "print(rand(3,3))"
      ],
      "metadata": {
        "colab": {
          "base_uri": "https://localhost:8080/"
        },
        "id": "FGtal3GCbWiR",
        "outputId": "959b1613-dbb4-44a8-d8db-d4dc067484a3"
      },
      "execution_count": null,
      "outputs": [
        {
          "output_type": "stream",
          "name": "stdout",
          "text": [
            "[[0.76300226 0.05957398 0.67923849]\n",
            " [0.91508254 0.52997619 0.80099602]\n",
            " [0.26639312 0.05289091 0.61495339]]\n"
          ]
        }
      ]
    },
    {
      "cell_type": "code",
      "source": [
        "from numpy.random import randn as rn\n",
        "print(rn(3,3))"
      ],
      "metadata": {
        "colab": {
          "base_uri": "https://localhost:8080/"
        },
        "id": "RhLNMz94bWpl",
        "outputId": "9cfdaf9a-294a-4905-bba3-b11ace8f4dd5"
      },
      "execution_count": null,
      "outputs": [
        {
          "output_type": "stream",
          "name": "stdout",
          "text": [
            "[[-0.99217194  1.70004557  0.24619391]\n",
            " [-0.78017667  0.87964596  0.03812821]\n",
            " [ 0.73573686 -0.47904118  1.95304722]]\n"
          ]
        }
      ]
    },
    {
      "cell_type": "markdown",
      "source": [
        "#numpy"
      ],
      "metadata": {
        "id": "FQsYnvy_-SN5"
      }
    },
    {
      "cell_type": "code",
      "source": [
        "from numpy.random import randn as rn, rand as r\n",
        "print(rn(3,3))\n",
        "print(r(3,3))"
      ],
      "metadata": {
        "colab": {
          "base_uri": "https://localhost:8080/"
        },
        "id": "otkW27hPbWr3",
        "outputId": "5696c5f6-1647-4653-ca12-c83674612901"
      },
      "execution_count": null,
      "outputs": [
        {
          "output_type": "stream",
          "name": "stdout",
          "text": [
            "[[ 0.40839887 -0.61302064 -0.15877633]\n",
            " [-1.40532193 -0.1041714  -0.64932219]\n",
            " [ 1.89093814  0.18739763 -1.28207663]]\n",
            "[[0.9411354  0.77159213 0.0306434 ]\n",
            " [0.55091514 0.46719417 0.1037041 ]\n",
            " [0.33214887 0.4539872  0.50953979]]\n"
          ]
        }
      ]
    },
    {
      "cell_type": "code",
      "source": [
        "import numpy as np\n",
        "a=np.array([1,2,3]) #list를 입력으로 들어가는 함수\n",
        "print(a)\n",
        "print(type(a)) \n",
        "print(a.dtype) #data type\n",
        "print(a.shape)\n",
        "print(a[0])\n",
        "\n",
        "b=np.array([1,2,3.1,4]) #하나만 float이면 자동으로 다 float\n",
        "print(type(b[1]))\n",
        "print(b.dtype)\n",
        "print(b[0])"
      ],
      "metadata": {
        "id": "NiaYNE5QbWuN",
        "colab": {
          "base_uri": "https://localhost:8080/"
        },
        "outputId": "2f14c956-fb9b-4050-8eec-0c0549a3e6ba"
      },
      "execution_count": null,
      "outputs": [
        {
          "output_type": "stream",
          "name": "stdout",
          "text": [
            "[1 2 3]\n",
            "<class 'numpy.ndarray'>\n",
            "int64\n",
            "(3,)\n",
            "1\n",
            "<class 'numpy.float64'>\n",
            "float64\n",
            "1.0\n"
          ]
        }
      ]
    },
    {
      "cell_type": "markdown",
      "source": [],
      "metadata": {
        "id": "B94kV1wreAiL"
      }
    },
    {
      "cell_type": "code",
      "source": [
        "a=np.array(2**63-1) #overflow 안남\n",
        "print(a)\n",
        "print(a.dtype)"
      ],
      "metadata": {
        "colab": {
          "base_uri": "https://localhost:8080/"
        },
        "id": "jC594B66_EjY",
        "outputId": "596e3821-3064-4c74-af44-55a7c1b0b086"
      },
      "execution_count": null,
      "outputs": [
        {
          "output_type": "stream",
          "name": "stdout",
          "text": [
            "9223372036854775807\n",
            "int64\n"
          ]
        }
      ]
    },
    {
      "cell_type": "code",
      "source": [
        "A=np.array([[1,2],[3,4]])\n",
        "# A=np.array([[1,2],[3,4,5]]) #리스트와는 달리 이제는 행렬이라서 각각 행에 해당하는 숫자의 개수가 같아야함\n",
        "print(A)\n",
        "print(A.shape)\n",
        "print(A.ndim) #차원의 수, 대괄호가 몇개인지\n",
        "print(A.size)"
      ],
      "metadata": {
        "id": "TnWF-ZdcbWw2",
        "colab": {
          "base_uri": "https://localhost:8080/"
        },
        "outputId": "e27aff18-abd9-4141-b689-98e705a69091"
      },
      "execution_count": null,
      "outputs": [
        {
          "output_type": "stream",
          "name": "stdout",
          "text": [
            "[[1 2]\n",
            " [3 4]]\n",
            "(2, 2)\n",
            "2\n",
            "4\n"
          ]
        }
      ]
    },
    {
      "cell_type": "code",
      "source": [
        "print(np.zeros(5))\n",
        "print(np.zeros_like(A)) #A의 사이즈에 맞게 0을 채워줌\n",
        "print(np.ones(5))\n",
        "print(np.ones_like(A))\n",
        "print(np.zeros((3,3))) #list or tuple로 하나로 묶어줘야함\n",
        "print(np.arange(3,10,2)) #range와 같은데 array로 만들어줌\n",
        "print(np.arange(0,1,0.1))# 소수점 가능 0<= <1\n",
        "print(np.linspace(0,1,10))#0부터 1포함(default) 10개로\n",
        "print(np.linspace(0,1,10,endpoint=False))#from 0 to 1(except)\n"
      ],
      "metadata": {
        "id": "TwxmgqkcbWzL",
        "colab": {
          "base_uri": "https://localhost:8080/"
        },
        "outputId": "2c6f1e54-77d1-4afe-8d50-af2fdf90d87c"
      },
      "execution_count": null,
      "outputs": [
        {
          "output_type": "stream",
          "name": "stdout",
          "text": [
            "[0. 0. 0. 0. 0.]\n",
            "[[0 0]\n",
            " [0 0]]\n",
            "[1. 1. 1. 1. 1.]\n",
            "[[1 1]\n",
            " [1 1]]\n",
            "[[0. 0. 0.]\n",
            " [0. 0. 0.]\n",
            " [0. 0. 0.]]\n",
            "[3 5 7 9]\n",
            "[0.  0.1 0.2 0.3 0.4 0.5 0.6 0.7 0.8 0.9]\n",
            "[0.         0.11111111 0.22222222 0.33333333 0.44444444 0.55555556\n",
            " 0.66666667 0.77777778 0.88888889 1.        ]\n",
            "[0.  0.1 0.2 0.3 0.4 0.5 0.6 0.7 0.8 0.9]\n"
          ]
        }
      ]
    },
    {
      "cell_type": "code",
      "source": [
        "a=np.array([1,2,3])\n",
        "b=np.array([4,5,6])\n",
        "c=a+b\n",
        "print(c)# 양옆으로 길어지는게 아닌 벡터의 합이 나옴\n",
        "[1,2,3]+[4,5,6]"
      ],
      "metadata": {
        "id": "vNxRbTA7bW4H",
        "colab": {
          "base_uri": "https://localhost:8080/"
        },
        "outputId": "02203dd4-9776-4110-8f71-eb5a0a2c1164"
      },
      "execution_count": null,
      "outputs": [
        {
          "output_type": "stream",
          "name": "stdout",
          "text": [
            "[5 7 9]\n"
          ]
        },
        {
          "output_type": "execute_result",
          "data": {
            "text/plain": [
              "[1, 2, 3, 4, 5, 6]"
            ]
          },
          "metadata": {},
          "execution_count": 253
        }
      ]
    },
    {
      "cell_type": "markdown",
      "source": [],
      "metadata": {
        "id": "8Bkl9XuHa0ID"
      }
    },
    {
      "cell_type": "code",
      "source": [
        "A=np.array([[1,2,3],[1,2,3]])\n",
        "B=np.array([[4,5,6],[1,1,1]])\n",
        "C=A+B\n",
        "D=A-B\n",
        "print(C)\n",
        "print(D)\n",
        "print(A*B) #성분끼리의의 곱 (Hadamard product)\n",
        "print(A/B) #나누기도 성분끼리\n",
        "print(B**2)#제곱도도 각각 성분에 대해 해준다\n",
        "[[1,2,3],[1,2,3]]+[[4,5,6],[1,1,1]]"
      ],
      "metadata": {
        "colab": {
          "base_uri": "https://localhost:8080/"
        },
        "id": "_56NJWu5C65p",
        "outputId": "4ac0b2dd-9d12-4dba-a6bb-717307ce0bc5"
      },
      "execution_count": null,
      "outputs": [
        {
          "output_type": "stream",
          "name": "stdout",
          "text": [
            "[[5 7 9]\n",
            " [2 3 4]]\n",
            "[[-3 -3 -3]\n",
            " [ 0  1  2]]\n",
            "[[ 4 10 18]\n",
            " [ 1  2  3]]\n",
            "[[0.25 0.4  0.5 ]\n",
            " [1.   2.   3.  ]]\n",
            "[[16 25 36]\n",
            " [ 1  1  1]]\n"
          ]
        },
        {
          "output_type": "execute_result",
          "data": {
            "text/plain": [
              "[[1, 2, 3], [1, 2, 3], [4, 5, 6], [1, 1, 1]]"
            ]
          },
          "metadata": {},
          "execution_count": 254
        }
      ]
    },
    {
      "cell_type": "code",
      "source": [
        "A=np.array([[1,2],[3,4]])\n",
        "B=np.array([[1,2],[3,4]])\n",
        "print(A*B)\n",
        "print(A@B) #matric muplication"
      ],
      "metadata": {
        "colab": {
          "base_uri": "https://localhost:8080/"
        },
        "id": "PEF34Kd6C63P",
        "outputId": "c00a116a-b38b-45f9-9ad8-840af28a3a0c"
      },
      "execution_count": null,
      "outputs": [
        {
          "output_type": "stream",
          "name": "stdout",
          "text": [
            "[[ 1  4]\n",
            " [ 9 16]]\n",
            "[[ 7 10]\n",
            " [15 22]]\n"
          ]
        }
      ]
    },
    {
      "cell_type": "markdown",
      "source": [
        "#numpy의 인덱싱과 슬라이딩"
      ],
      "metadata": {
        "id": "jftsC2OJEdOm"
      }
    },
    {
      "cell_type": "code",
      "source": [
        "#list indexing\n",
        "a=np.array([1,2,3,4,5,6,7,8,9])\n",
        "print(a[0])\n",
        "print(a[1])\n",
        "print(a[-1])\n",
        "print(a[1:4])\n",
        "print(a[7:])\n",
        "print(a[:])\n"
      ],
      "metadata": {
        "colab": {
          "base_uri": "https://localhost:8080/"
        },
        "id": "tv-2GyKpC60t",
        "outputId": "34ae4fc5-2ee8-458c-9d3c-569ecb3ae941"
      },
      "execution_count": null,
      "outputs": [
        {
          "output_type": "stream",
          "name": "stdout",
          "text": [
            "1\n",
            "2\n",
            "9\n",
            "[2 3 4]\n",
            "[8 9]\n",
            "[1 2 3 4 5 6 7 8 9]\n"
          ]
        }
      ]
    },
    {
      "cell_type": "code",
      "source": [
        "#matrix indexing\n",
        "A=np.array([[1,2,3],[4,5,6],[7,8,9]])\n",
        "print(A[0])\n",
        "print(A[-1])\n",
        "print(A[1:])\n",
        "print(A[:])\n",
        "print(A[0][2])\n",
        "print(A[0,2]) #only possible in numpy\n",
        "print(A[1,:])\n",
        "print(A[1,0:3:2])\n",
        "print(A[:,2])"
      ],
      "metadata": {
        "colab": {
          "base_uri": "https://localhost:8080/"
        },
        "id": "pjSGauimC6yX",
        "outputId": "3b7dc6ea-c1e3-4554-f1db-90bd748920e3"
      },
      "execution_count": null,
      "outputs": [
        {
          "output_type": "stream",
          "name": "stdout",
          "text": [
            "[1 2 3]\n",
            "[7 8 9]\n",
            "[[4 5 6]\n",
            " [7 8 9]]\n",
            "[[1 2 3]\n",
            " [4 5 6]\n",
            " [7 8 9]]\n",
            "3\n",
            "3\n",
            "[4 5 6]\n",
            "[4 6]\n",
            "[3 6 9]\n"
          ]
        }
      ]
    },
    {
      "cell_type": "code",
      "source": [
        "#boolean indexing, true false\n",
        "a=[1,2,3,4,5,3,3]\n",
        "print(a==3) #여러개 값이 들어가 있는 리스트랑 3달랑 하나랑 같나?\n",
        "A=np.array([[1,2,3,4],[5,3,7,3]])\n",
        "print(A==3)#리스트와 달리 각 요소에 대해 비교\n",
        "print(A[A==3]) #true인 지점에 해당하는 성분만을 인덱싱한다 A[index]\n",
        "\n",
        "A[A==3]=100 #3과 같은 애를 100으로 바꿈\n",
        "print(A)\n",
        "\n",
        "A=np.array([[1,2],[3,4],[5,6],[7,8]])\n",
        "B=np.array([True,False,False,True])\n",
        "A[B,:]\n",
        "\n",
        "b=np.array([1,2,3,4])\n",
        "print(b)\n",
        "print(b[[True,False,True,False]])\n",
        "\n",
        "#c=[1,2,3,4]\n",
        "#c[[True,False,True,False]]"
      ],
      "metadata": {
        "colab": {
          "base_uri": "https://localhost:8080/"
        },
        "id": "acvQGaqVC6v_",
        "outputId": "b65409db-0ddd-4b51-87bb-d57a9ace0091"
      },
      "execution_count": null,
      "outputs": [
        {
          "output_type": "stream",
          "name": "stdout",
          "text": [
            "False\n",
            "[[False False  True False]\n",
            " [False  True False  True]]\n",
            "[3 3 3]\n",
            "[[  1   2 100   4]\n",
            " [  5 100   7 100]]\n",
            "[1 2 3 4]\n",
            "[1 3]\n"
          ]
        }
      ]
    },
    {
      "cell_type": "code",
      "source": [
        "#3차원 행렬의 인덱싱\n",
        "A=np.array([[[0,1,2,3],[4,5,6,7],[8,9,10,11]],\n",
        "           [[12,13,14,15],[16,17,18,19],[20,21,22,23]]])\n",
        "print(A)\n",
        "print(A.shape) #3x4 matrix가 2개, 대괄호가 하나가 늘어나면 왼쪽 shape값이 추가된다\n",
        "print(A[0,1,2])"
      ],
      "metadata": {
        "colab": {
          "base_uri": "https://localhost:8080/"
        },
        "id": "1EoJCyKdC6cr",
        "outputId": "e762510f-51b7-4693-a5c7-fb6ea5b01371"
      },
      "execution_count": null,
      "outputs": [
        {
          "output_type": "stream",
          "name": "stdout",
          "text": [
            "[[[ 0  1  2  3]\n",
            "  [ 4  5  6  7]\n",
            "  [ 8  9 10 11]]\n",
            "\n",
            " [[12 13 14 15]\n",
            "  [16 17 18 19]\n",
            "  [20 21 22 23]]]\n",
            "(2, 3, 4)\n",
            "6\n"
          ]
        }
      ]
    },
    {
      "cell_type": "markdown",
      "source": [
        "#numpy의 여러함수들"
      ],
      "metadata": {
        "id": "6bbGmja7KyKY"
      }
    },
    {
      "cell_type": "code",
      "source": [
        "A=np.random.randn(3,3) #튜플로 안줘도 됨\n",
        "B=np.random.rand(3,3)\n",
        "print(A)\n",
        "print(B)\n",
        "print(A[A[:,0]<0,:])"
      ],
      "metadata": {
        "colab": {
          "base_uri": "https://localhost:8080/"
        },
        "id": "WD94GruCC6Sz",
        "outputId": "7dc7fe41-d813-4da9-98bf-28822cec5fc7"
      },
      "execution_count": null,
      "outputs": [
        {
          "output_type": "stream",
          "name": "stdout",
          "text": [
            "[[-0.24011494  0.91253376 -0.95892242]\n",
            " [-1.08123114  0.90006315 -0.4791053 ]\n",
            " [ 1.65340607  1.73015319 -0.88796456]]\n",
            "[[0.25522417 0.38026951 0.30719665]\n",
            " [0.58139498 0.64723158 0.82905062]\n",
            " [0.1163506  0.06346306 0.14615585]]\n",
            "[[-0.24011494  0.91253376 -0.95892242]\n",
            " [-1.08123114  0.90006315 -0.4791053 ]]\n"
          ]
        }
      ]
    },
    {
      "cell_type": "code",
      "source": [
        "A=np.random.randn(3,3)\n",
        "print(A)\n",
        "print(np.abs(A))\n",
        "print(np.sqrt(np.abs(A)))\n",
        "print(np.exp(A))\n",
        "print(np.log(np.abs(A)))\n",
        "print(np.log(np.exp(1))) #log밑이 자연상수 => e\n",
        "print(np.log10(10))\n",
        "print(np.log2(2))\n",
        "print(np.round(A,2)) #소수점 둘째 자리까지 반올림\n",
        "print(np.floor(A)) #내림\n",
        "print(np.ceil(A)) #올림"
      ],
      "metadata": {
        "colab": {
          "base_uri": "https://localhost:8080/"
        },
        "id": "dJ300H3fQBrs",
        "outputId": "761d6830-23ed-485b-cc42-adf5b9132a4d"
      },
      "execution_count": null,
      "outputs": [
        {
          "output_type": "stream",
          "name": "stdout",
          "text": [
            "[[ 0.31571175  1.20411154 -1.56095857]\n",
            " [-0.28740197  1.24965342  0.585505  ]\n",
            " [-0.25312571  0.87278698 -0.82175748]]\n",
            "[[0.31571175 1.20411154 1.56095857]\n",
            " [0.28740197 1.24965342 0.585505  ]\n",
            " [0.25312571 0.87278698 0.82175748]]\n",
            "[[0.56188233 1.09732016 1.24938328]\n",
            " [0.53609884 1.11787898 0.76518298]\n",
            " [0.503116   0.93423069 0.9065084 ]]\n",
            "[[1.37123494 3.33379583 0.20993474]\n",
            " [0.75021011 3.48913347 1.79589768]\n",
            " [0.77637028 2.3935724  0.43965828]]\n",
            "[[-1.15292567  0.18574199  0.4453001 ]\n",
            " [-1.24687346  0.22286625 -0.53528056]\n",
            " [-1.37386905 -0.13606376 -0.19630996]]\n",
            "1.0\n",
            "1.0\n",
            "1.0\n",
            "[[ 0.32  1.2  -1.56]\n",
            " [-0.29  1.25  0.59]\n",
            " [-0.25  0.87 -0.82]]\n",
            "[[ 0.  1. -2.]\n",
            " [-1.  1.  0.]\n",
            " [-1.  0. -1.]]\n",
            "[[ 1.  2. -1.]\n",
            " [-0.  2.  1.]\n",
            " [-0.  1. -0.]]\n"
          ]
        }
      ]
    },
    {
      "cell_type": "code",
      "source": [
        "print(np.sin(np.pi/6))\n",
        "print(np.cos(np.pi/3))\n",
        "print(np.tan(np.pi/4))\n",
        "print(np.tanh(-10))"
      ],
      "metadata": {
        "colab": {
          "base_uri": "https://localhost:8080/"
        },
        "id": "wRcG4726QBpF",
        "outputId": "1ed248e6-93fd-4992-c161-70bffd48257f"
      },
      "execution_count": null,
      "outputs": [
        {
          "output_type": "stream",
          "name": "stdout",
          "text": [
            "0.49999999999999994\n",
            "0.5000000000000001\n",
            "0.9999999999999999\n",
            "-0.9999999958776927\n"
          ]
        }
      ]
    },
    {
      "cell_type": "code",
      "source": [
        "np.nan #not a number\n",
        "#np.log(-1) => nan\n",
        "print(np.isnan([1,2,np.nan,3,4]))\n",
        "np.inf #infinite\n",
        "print(np.isinf([1,2,3,4,np.inf]))"
      ],
      "metadata": {
        "colab": {
          "base_uri": "https://localhost:8080/"
        },
        "id": "CqMegD4AQBmf",
        "outputId": "70c0bbee-06bc-428f-a9a9-d998d59f5edc"
      },
      "execution_count": null,
      "outputs": [
        {
          "output_type": "stream",
          "name": "stdout",
          "text": [
            "[False False  True False False]\n",
            "[False False False False  True]\n"
          ]
        }
      ]
    },
    {
      "cell_type": "code",
      "source": [
        "A=np.random.randn(3,4)\n",
        "print(A)\n",
        "print(np.max(A))\n",
        "print(np.max(A,axis=0)) #열로비교\n",
        "print(np.max(A,axis=1)) #행으로비교 1행3열\n",
        "print(np.max(A,axis=0,keepdims=True)) \n",
        "print(np.max(A,axis=1,keepdims=True))\n",
        "print(np.min(A))\n",
        "print(np.min(A,axis=0))\n",
        "print(np.argmax(A))\n",
        "print(np.argmax(A,axis=0)) #각 열에서 가장 큰 애가 존재하는 인덱스\n",
        "print(np.argmax(A,axis=1)) #각 행에서 가장 큰 애가 존재하는 인덱스"
      ],
      "metadata": {
        "colab": {
          "base_uri": "https://localhost:8080/"
        },
        "id": "wyWFizIHQBj3",
        "outputId": "17382fbc-bf1c-4480-b9cc-8f9bc0e980c8"
      },
      "execution_count": null,
      "outputs": [
        {
          "output_type": "stream",
          "name": "stdout",
          "text": [
            "[[ 0.36965421 -0.88576601  0.26261903  0.38801186]\n",
            " [ 0.74565176 -2.19279965  0.81669976 -0.68452144]\n",
            " [ 1.24846181 -0.15662415 -1.23968067  0.30046458]]\n",
            "1.248461807807021\n",
            "[ 1.24846181 -0.15662415  0.81669976  0.38801186]\n",
            "[0.38801186 0.81669976 1.24846181]\n",
            "[[ 1.24846181 -0.15662415  0.81669976  0.38801186]]\n",
            "[[0.38801186]\n",
            " [0.81669976]\n",
            " [1.24846181]]\n",
            "-2.192799653981449\n",
            "[ 0.36965421 -2.19279965 -1.23968067 -0.68452144]\n",
            "8\n",
            "[2 2 1 0]\n",
            "[3 2 0]\n"
          ]
        }
      ]
    },
    {
      "cell_type": "code",
      "source": [
        "a=np.random.randn(6,1)\n",
        "print(a)\n",
        "print()\n",
        "a_sorted=np.sort(a,axis=0) #가로로 정렬하는 것이 default, 오름차순\n",
        "print(a_sorted)\n",
        "print()\n",
        "print(np.flipud(a_sorted)) #내림차순"
      ],
      "metadata": {
        "colab": {
          "base_uri": "https://localhost:8080/"
        },
        "id": "hBUgHbukQBhT",
        "outputId": "575c6faf-4783-4ad9-dc90-a0c7f8934b37"
      },
      "execution_count": null,
      "outputs": [
        {
          "output_type": "stream",
          "name": "stdout",
          "text": [
            "[[ 1.37532357]\n",
            " [ 0.23678743]\n",
            " [-0.40496711]\n",
            " [-0.70406968]\n",
            " [ 1.01976156]\n",
            " [ 0.8768926 ]]\n",
            "\n",
            "[[-0.70406968]\n",
            " [-0.40496711]\n",
            " [ 0.23678743]\n",
            " [ 0.8768926 ]\n",
            " [ 1.01976156]\n",
            " [ 1.37532357]]\n",
            "\n",
            "[[ 1.37532357]\n",
            " [ 1.01976156]\n",
            " [ 0.8768926 ]\n",
            " [ 0.23678743]\n",
            " [-0.40496711]\n",
            " [-0.70406968]]\n"
          ]
        }
      ]
    },
    {
      "cell_type": "code",
      "source": [
        "A=np.random.randn(3,4)\n",
        "print(A)\n",
        "print(np.sum(A)) \n",
        "print(np.sum(A,axis=1)) #1x3\n",
        "print(np.sum(A,axis=1,keepdims=True)) #3x1 2D array\n",
        "print(np.mean(A))\n",
        "print(np.mean(A,axis=1))\n",
        "print(np.mean(A,axis=1,keepdims=True)) #3x1\n",
        "print(np.std(A)) #standard deviation 표준편차"
      ],
      "metadata": {
        "colab": {
          "base_uri": "https://localhost:8080/"
        },
        "id": "NbVC2SwFVbK_",
        "outputId": "61bd365b-d827-4ef9-9d2f-8caf0dd514ef"
      },
      "execution_count": null,
      "outputs": [
        {
          "output_type": "stream",
          "name": "stdout",
          "text": [
            "[[-0.07092585 -0.66202765 -0.52650576 -0.2367669 ]\n",
            " [-0.63200645  0.91146199  1.9563068   1.64357266]\n",
            " [ 1.9705244   0.24917241  0.33803889  0.21854772]]\n",
            "5.159392260758869\n",
            "[-1.49622616  3.879335    2.77628342]\n",
            "[[-1.49622616]\n",
            " [ 3.879335  ]\n",
            " [ 2.77628342]]\n",
            "0.4299493550632391\n",
            "[-0.37405654  0.96983375  0.69407085]\n",
            "[[-0.37405654]\n",
            " [ 0.96983375]\n",
            " [ 0.69407085]]\n",
            "0.9320251154622029\n"
          ]
        }
      ]
    },
    {
      "cell_type": "code",
      "source": [
        "A=np.random.randint(1,5,size=(12,)) #1부터 5미만, size 12x1\n",
        "print(A)\n",
        "print(A.shape)\n",
        "B=A.reshape(2,2,3) #d,r,c \n",
        "print(B)\n",
        "print(B.ndim) #3-d"
      ],
      "metadata": {
        "colab": {
          "base_uri": "https://localhost:8080/"
        },
        "id": "NFb7pn_0VbIX",
        "outputId": "47a93005-f5dd-4aff-8717-492c762ebb52"
      },
      "execution_count": null,
      "outputs": [
        {
          "output_type": "stream",
          "name": "stdout",
          "text": [
            "[3 2 1 3 1 3 1 2 4 2 3 4]\n",
            "(12,)\n",
            "[[[3 2 1]\n",
            "  [3 1 3]]\n",
            "\n",
            " [[1 2 4]\n",
            "  [2 3 4]]]\n",
            "3\n"
          ]
        }
      ]
    },
    {
      "cell_type": "code",
      "source": [
        "a=np.array([1,2,3])\n",
        "b=np.array([2,2,1])\n",
        "print(np.sum(a*b)) #inner product\n",
        "print(a)\n",
        "\n",
        "a=a.reshape(3,1) #make a coloum vector\n",
        "b=b.reshape(3,1)\n",
        "print(a.transpose()@b) #inner product\n",
        "print(a.T@b)\n",
        "\n",
        "A=np.random.randn(4,3,2)\n",
        "print(A.shape)\n",
        "print(A.transpose(0,1,2).shape) #d, r, c  0->0, 1->1, 2->2\n",
        "print(A.T.shape)\n",
        "print(A.transpose(2,1,0).shape) #d, r, c  0->2, 1->1, 2->0"
      ],
      "metadata": {
        "colab": {
          "base_uri": "https://localhost:8080/"
        },
        "id": "EMlX1VloVbFx",
        "outputId": "20b80774-3cf0-475f-e157-a7a4436a9b2a"
      },
      "execution_count": null,
      "outputs": [
        {
          "output_type": "stream",
          "name": "stdout",
          "text": [
            "9\n",
            "[1 2 3]\n",
            "[[9]]\n",
            "[[9]]\n",
            "(4, 3, 2)\n",
            "(4, 3, 2)\n",
            "(2, 3, 4)\n",
            "(2, 3, 4)\n"
          ]
        }
      ]
    },
    {
      "cell_type": "code",
      "source": [
        "A=np.arange(20)\n",
        "print(A)\n",
        "print(A.reshape(4,5))\n",
        "print(A.reshape(4,-1).shape) #-1을 마지막에 쓰면 4개의 행이 될 수 있도록 열의 수를 알아서 맞춤\n",
        "print(A.reshape(2,5,-1).shape)\n",
        "print(A.reshape(2,-1,5).shape)\n",
        "print(A.reshape(1,-1).shape) #2차원 행 벡터를 만듬\n",
        "print(A.reshape(-1,1).shape) #2차원 열 벡터를 만듬"
      ],
      "metadata": {
        "colab": {
          "base_uri": "https://localhost:8080/"
        },
        "id": "_8vq1XoLVbDL",
        "outputId": "574cfcd2-71fd-412d-df65-511a689272c5"
      },
      "execution_count": null,
      "outputs": [
        {
          "output_type": "stream",
          "name": "stdout",
          "text": [
            "[ 0  1  2  3  4  5  6  7  8  9 10 11 12 13 14 15 16 17 18 19]\n",
            "[[ 0  1  2  3  4]\n",
            " [ 5  6  7  8  9]\n",
            " [10 11 12 13 14]\n",
            " [15 16 17 18 19]]\n",
            "(4, 5)\n",
            "(2, 5, 2)\n",
            "(2, 2, 5)\n",
            "(1, 20)\n",
            "(20, 1)\n"
          ]
        }
      ]
    },
    {
      "cell_type": "code",
      "source": [
        "x=np.random.randn(2,3,4,5,6)\n",
        "\n",
        "print(x[1,2,:,:,:].shape)\n",
        "print(x[1,2,...].shape) #x[1,2,:,:,:] == x[1,2,...]\n",
        "print(x[:,:,:,:,3].shape)\n",
        "print(x[...,3].shape)\n",
        "print(x[1,:,:,3,:].shape)\n",
        "print(x[1,...,3,:].shape)  \n",
        "#...?아직 잘모르겠음 대충 고차원슬라이싱"
      ],
      "metadata": {
        "colab": {
          "base_uri": "https://localhost:8080/"
        },
        "id": "RWNyAmGWVbAV",
        "outputId": "35a27616-c9bf-4712-8981-4bbd2c203f37"
      },
      "execution_count": null,
      "outputs": [
        {
          "output_type": "stream",
          "name": "stdout",
          "text": [
            "(4, 5, 6)\n",
            "(4, 5, 6)\n",
            "(2, 3, 4, 5)\n",
            "(2, 3, 4, 5)\n",
            "(3, 4, 6)\n",
            "(3, 4, 6)\n"
          ]
        }
      ]
    },
    {
      "cell_type": "markdown",
      "source": [],
      "metadata": {
        "id": "BNkEqPLaat9v"
      }
    },
    {
      "cell_type": "code",
      "source": [
        "A=np.ones((2,2))\n",
        "B=np.zeros((2,2))\n",
        "\n",
        "C=np.hstack([A,B]) #horizontal방향으로 쌓임\n",
        "D=np.vstack([A,B]) #vertical방향으로 쌓임\n",
        "E=np.block([A,B]) #horizontal방향으로 쌓임\n",
        "F=np.block([[A],[B]]) #vertical방향으로 쌓임\n",
        "G=np.block([ [[A]] , [[B]] ]) #dimension으로 쌓임\n",
        "print(C)\n",
        "print(D)\n",
        "print(E)\n",
        "print(F)\n",
        "print(G.shape)\n"
      ],
      "metadata": {
        "colab": {
          "base_uri": "https://localhost:8080/"
        },
        "id": "gyZ0tVwYeA55",
        "outputId": "d5773916-dda8-48cb-cef7-297dd48147bf"
      },
      "execution_count": null,
      "outputs": [
        {
          "output_type": "stream",
          "name": "stdout",
          "text": [
            "[[1. 1. 0. 0.]\n",
            " [1. 1. 0. 0.]]\n",
            "[[1. 1.]\n",
            " [1. 1.]\n",
            " [0. 0.]\n",
            " [0. 0.]]\n",
            "[[1. 1. 0. 0.]\n",
            " [1. 1. 0. 0.]]\n",
            "[[1. 1.]\n",
            " [1. 1.]\n",
            " [0. 0.]\n",
            " [0. 0.]]\n",
            "(2, 2, 2)\n"
          ]
        }
      ]
    },
    {
      "cell_type": "code",
      "source": [
        "A=np.random.randn(1,1,1,3,1,1,4,1) #essence는는 3,4에 있음\n",
        "print(A)\n",
        "print(A.shape)\n",
        "print(A.squeeze().shape) #불필요한 1을 없앰\n",
        "print(A.squeeze(axis=(0,2,4,5)).shape) #원하는 차원만 없앨 수 있음"
      ],
      "metadata": {
        "colab": {
          "base_uri": "https://localhost:8080/"
        },
        "id": "S8fq2jNmeOnt",
        "outputId": "bdebade4-2bf1-403c-dccd-43a775d99ecc"
      },
      "execution_count": null,
      "outputs": [
        {
          "output_type": "stream",
          "name": "stdout",
          "text": [
            "[[[[[[[[ 0.81530145]\n",
            "       [-2.33358682]\n",
            "       [ 0.57880522]\n",
            "       [ 0.99299009]]]]\n",
            "\n",
            "\n",
            "\n",
            "    [[[[-0.89990747]\n",
            "       [-0.18702281]\n",
            "       [ 1.16277479]\n",
            "       [ 0.53180208]]]]\n",
            "\n",
            "\n",
            "\n",
            "    [[[[-0.64159703]\n",
            "       [ 0.77846374]\n",
            "       [-0.53555425]\n",
            "       [ 0.17217436]]]]]]]]\n",
            "(1, 1, 1, 3, 1, 1, 4, 1)\n",
            "(3, 4)\n",
            "(1, 3, 4, 1)\n"
          ]
        }
      ]
    },
    {
      "cell_type": "code",
      "source": [
        "A=np.random.randn(3,4)\n",
        "\n",
        "A1=A[np.newaxis,:,:] #add dimension, np.newaxis is None == True\n",
        "#A1=A[None,:,:]\n",
        "print(A1.shape)\n",
        "A2=A[...,np.newaxis]\n",
        "print(A2.shape)\n",
        "A3=A[:,np.newaxis,:]\n",
        "print(A3.shape)\n",
        "print()\n",
        "A1=np.expand_dims(A,axis=0)\n",
        "print(A1.shape)\n",
        "A2=np.expand_dims(A,axis=2)\n",
        "print(A2.shape)\n",
        "A3=np.expand_dims(A,axis=1)\n",
        "print(A3.shape)\n",
        "print()\n",
        "A1=A1.reshape(1,3,4)\n",
        "print(A1.shape)\n",
        "A2=A2.reshape(3,4,1)\n",
        "print(A2.shape)\n",
        "A3=A3.reshape(3,1,4)\n",
        "print(A3.shape)\n",
        "\n",
        "#차원을 맞춰야하는 torch나 pyplot에 쓰임"
      ],
      "metadata": {
        "colab": {
          "base_uri": "https://localhost:8080/"
        },
        "id": "M8TwEMwefgWi",
        "outputId": "1eff66ef-f8ce-44fc-e96f-8a06012cc0bd"
      },
      "execution_count": null,
      "outputs": [
        {
          "output_type": "stream",
          "name": "stdout",
          "text": [
            "(1, 3, 4)\n",
            "(3, 4, 1)\n",
            "(3, 1, 4)\n",
            "\n",
            "(1, 3, 4)\n",
            "(3, 4, 1)\n",
            "(3, 1, 4)\n",
            "\n",
            "(1, 3, 4)\n",
            "(3, 4, 1)\n",
            "(3, 1, 4)\n"
          ]
        }
      ]
    },
    {
      "cell_type": "code",
      "source": [],
      "metadata": {
        "id": "jLjj0xuxirj-"
      },
      "execution_count": null,
      "outputs": []
    }
  ]
}